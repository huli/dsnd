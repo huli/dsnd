{
 "cells": [
  {
   "cell_type": "markdown",
   "metadata": {},
   "source": [
    "### How Are We Doing?\n",
    "\n",
    "In the last notebook, you created a working version of SVD for situations even when there are tons of missing values.  This is awesome!  The question now is how well does this solution work?\n",
    "\n",
    "In this notebook, we are going to simulate exactly what we would do in the real world to tune our recommender.  \n",
    "\n",
    "Run the cell below to read in the data and get started."
   ]
  },
  {
   "cell_type": "code",
   "execution_count": 1,
   "metadata": {},
   "outputs": [],
   "source": [
    "import numpy as np\n",
    "import pandas as pd\n",
    "\n",
    "# Read in the datasets\n",
    "movies = pd.read_csv('data/movies_clean.csv')\n",
    "reviews = pd.read_csv('data/reviews_clean.csv')\n",
    "\n",
    "del movies['Unnamed: 0']\n",
    "del reviews['Unnamed: 0']"
   ]
  },
  {
   "cell_type": "markdown",
   "metadata": {},
   "source": [
    "1. Using the **reviews** dataframe, perform the following tasks to create a training and validation set of data we can use to test the performance of your SVD algorithm using **off-line** validation techniques.\n",
    "\n",
    " * Order the reviews dataframe from earliest to most recent \n",
    " * Pull the first 10000 reviews from  the dataset\n",
    " * Make the first 8000/10000 reviews the training data \n",
    " * Make the last 2000/10000 the test data\n",
    " * Return the training and test datasets"
   ]
  },
  {
   "cell_type": "code",
   "execution_count": 109,
   "metadata": {},
   "outputs": [],
   "source": [
    "def create_train_test(reviews, order_by, training_size, testing_size):\n",
    "    '''    \n",
    "    INPUT:\n",
    "    reviews - (pandas df) dataframe to split into train and test\n",
    "    order_by - (string) column name to sort by\n",
    "    training_size - (int) number of rows in training set\n",
    "    testing_size - (int) number of columns in the test set\n",
    "    \n",
    "    OUTPUT:\n",
    "    training_df -  (pandas df) dataframe of the training set\n",
    "    validation_df - (pandas df) dataframe of the test set\n",
    "    '''\n",
    "    \n",
    "    reviews_ordered = reviews.sort_values(order_by)\n",
    "    training_df = reviews_ordered.iloc[:training_size, :]\n",
    "    validation_df = reviews_ordered.iloc[training_size:training_size+testing_size, :]\n",
    "\n",
    "    return training_df, validation_df"
   ]
  },
  {
   "cell_type": "code",
   "execution_count": 110,
   "metadata": {},
   "outputs": [],
   "source": [
    "# Nothing to change in this or the next cell\n",
    "# Use our function to create training and test datasets\n",
    "train_df, val_df = create_train_test(reviews, 'date', 8000, 2000)"
   ]
  },
  {
   "cell_type": "code",
   "execution_count": 112,
   "metadata": {},
   "outputs": [
    {
     "name": "stdout",
     "output_type": "stream",
     "text": [
      "Nice job!  Looks like you have written a function that provides training and validation dataframes for you to use in the next steps.\n"
     ]
    }
   ],
   "source": [
    "# Make sure the dataframes we are using are the right shape\n",
    "assert train_df.shape[0] == 8000, \"The number of rows doesn't look right in the training dataset.\"\n",
    "assert val_df.shape[0] == 2000, \"The number of rows doesn't look right in the validation dataset\"\n",
    "assert str(train_df.tail(1)['date']).split()[1] == '2013-03-15', \"The last date in the training dataset doesn't look like what we expected.\"\n",
    "assert str(val_df.tail(1)['date']).split()[1] == '2013-03-18', \"The last date in the validation dataset doesn't look like what we expected.\"\n",
    "print(\"Nice job!  Looks like you have written a function that provides training and validation dataframes for you to use in the next steps.\")"
   ]
  },
  {
   "cell_type": "markdown",
   "metadata": {},
   "source": [
    "In the real world, we might have all of the data up to this final date in the training data.  Then we want to see how well we are doing for each of the new ratings, which show up in the test data.\n",
    "\n",
    "Below is a working example of the function created in the previous example you can use (or you can replace with your own).\n",
    "\n",
    "`2.`  Fit the function to the training data with the following hyperparameters: 15 latent features, a learning rate of 0.005, and 250 iterations. This will take some time to run, so you may choose fewer latent features, a higher learning rate, or fewer iteratios if you want to speed up the process.  \n",
    "\n",
    "**Note:** Again, this might be a good time to take a phone call, go for a walk, or just take a little break.  No need to change the code below unless you would like to make changes to reduce the time needed to obtain results."
   ]
  },
  {
   "cell_type": "code",
   "execution_count": 113,
   "metadata": {},
   "outputs": [],
   "source": [
    "def FunkSVD(ratings_mat, latent_features=12, learning_rate=0.0001, iters=100):\n",
    "    '''\n",
    "    This function performs matrix factorization using a basic form of FunkSVD with no regularization\n",
    "    \n",
    "    INPUT:\n",
    "    ratings_mat - (numpy array) a matrix with users as rows, movies as columns, and ratings as values\n",
    "    latent_features - (int) the number of latent features used\n",
    "    learning_rate - (float) the learning rate \n",
    "    iters - (int) the number of iterations\n",
    "    \n",
    "    OUTPUT:\n",
    "    user_mat - (numpy array) a user by latent feature matrix\n",
    "    movie_mat - (numpy array) a latent feature by movie matrix\n",
    "    '''\n",
    "    \n",
    "    # Set up useful values to be used through the rest of the function\n",
    "    n_users = ratings_mat.shape[0]\n",
    "    n_movies = ratings_mat.shape[1]\n",
    "    num_ratings = np.count_nonzero(~np.isnan(ratings_mat))\n",
    "    \n",
    "    # initialize the user and movie matrices with random values\n",
    "    user_mat = np.random.rand(n_users, latent_features)\n",
    "    movie_mat = np.random.rand(latent_features, n_movies)\n",
    "    \n",
    "    # initialize sse at 0 for first iteration\n",
    "    sse_accum = 0\n",
    "    \n",
    "    # keep track of iteration and MSE\n",
    "    print(\"Optimizaiton Statistics\")\n",
    "    print(\"Iterations | Mean Squared Error \")\n",
    "    \n",
    "    # for each iteration\n",
    "    for iteration in range(iters):\n",
    "\n",
    "        # update our sse\n",
    "        old_sse = sse_accum\n",
    "        sse_accum = 0\n",
    "        \n",
    "        # For each user-movie pair\n",
    "        for i in range(n_users):\n",
    "            for j in range(n_movies):\n",
    "                \n",
    "                # if the rating exists\n",
    "                if ratings_mat[i, j] > 0:\n",
    "                    \n",
    "                    # compute the error as the actual minus the dot product of the user and movie latent features\n",
    "                    diff = ratings_mat[i, j] - np.dot(user_mat[i, :], movie_mat[:, j])\n",
    "                    \n",
    "                    # Keep track of the sum of squared errors for the matrix\n",
    "                    sse_accum += diff**2\n",
    "                    \n",
    "                    # update the values in each matrix in the direction of the gradient\n",
    "                    for k in range(latent_features):\n",
    "                        user_mat[i, k] += learning_rate * (2*diff*movie_mat[k, j])\n",
    "                        movie_mat[k, j] += learning_rate * (2*diff*user_mat[i, k])\n",
    "\n",
    "        # print results\n",
    "        print(\"%d \\t\\t %f\" % (iteration+1, sse_accum / num_ratings))\n",
    "        \n",
    "    return user_mat, movie_mat "
   ]
  },
  {
   "cell_type": "code",
   "execution_count": 114,
   "metadata": {},
   "outputs": [
    {
     "name": "stdout",
     "output_type": "stream",
     "text": [
      "Optimizaiton Statistics\n",
      "Iterations | Mean Squared Error \n",
      "1 \t\t 10.694317\n",
      "2 \t\t 6.007306\n",
      "3 \t\t 4.207933\n",
      "4 \t\t 3.154955\n",
      "5 \t\t 2.462071\n",
      "6 \t\t 1.972505\n",
      "7 \t\t 1.609813\n",
      "8 \t\t 1.332152\n",
      "9 \t\t 1.114469\n",
      "10 \t\t 0.940712\n",
      "11 \t\t 0.800054\n",
      "12 \t\t 0.684890\n",
      "13 \t\t 0.589691\n",
      "14 \t\t 0.510325\n",
      "15 \t\t 0.443647\n",
      "16 \t\t 0.387225\n",
      "17 \t\t 0.339170\n",
      "18 \t\t 0.298002\n",
      "19 \t\t 0.262553\n",
      "20 \t\t 0.231897\n",
      "21 \t\t 0.205288\n",
      "22 \t\t 0.182119\n",
      "23 \t\t 0.161891\n",
      "24 \t\t 0.144191\n",
      "25 \t\t 0.128669\n",
      "26 \t\t 0.115032\n",
      "27 \t\t 0.103027\n",
      "28 \t\t 0.092441\n",
      "29 \t\t 0.083088\n",
      "30 \t\t 0.074809\n",
      "31 \t\t 0.067469\n",
      "32 \t\t 0.060948\n",
      "33 \t\t 0.055144\n",
      "34 \t\t 0.049970\n",
      "35 \t\t 0.045348\n",
      "36 \t\t 0.041212\n",
      "37 \t\t 0.037505\n",
      "38 \t\t 0.034176\n",
      "39 \t\t 0.031181\n",
      "40 \t\t 0.028483\n",
      "41 \t\t 0.026049\n",
      "42 \t\t 0.023848\n",
      "43 \t\t 0.021857\n",
      "44 \t\t 0.020052\n",
      "45 \t\t 0.018414\n",
      "46 \t\t 0.016925\n",
      "47 \t\t 0.015571\n",
      "48 \t\t 0.014337\n",
      "49 \t\t 0.013211\n",
      "50 \t\t 0.012184\n",
      "51 \t\t 0.011245\n",
      "52 \t\t 0.010387\n",
      "53 \t\t 0.009600\n",
      "54 \t\t 0.008879\n",
      "55 \t\t 0.008218\n",
      "56 \t\t 0.007611\n",
      "57 \t\t 0.007054\n",
      "58 \t\t 0.006541\n",
      "59 \t\t 0.006069\n",
      "60 \t\t 0.005634\n",
      "61 \t\t 0.005234\n",
      "62 \t\t 0.004865\n",
      "63 \t\t 0.004524\n",
      "64 \t\t 0.004209\n",
      "65 \t\t 0.003919\n",
      "66 \t\t 0.003650\n",
      "67 \t\t 0.003401\n",
      "68 \t\t 0.003171\n",
      "69 \t\t 0.002958\n",
      "70 \t\t 0.002760\n",
      "71 \t\t 0.002577\n",
      "72 \t\t 0.002407\n",
      "73 \t\t 0.002250\n",
      "74 \t\t 0.002103\n",
      "75 \t\t 0.001967\n",
      "76 \t\t 0.001841\n",
      "77 \t\t 0.001723\n",
      "78 \t\t 0.001614\n",
      "79 \t\t 0.001512\n",
      "80 \t\t 0.001417\n",
      "81 \t\t 0.001329\n",
      "82 \t\t 0.001246\n",
      "83 \t\t 0.001169\n",
      "84 \t\t 0.001098\n",
      "85 \t\t 0.001031\n",
      "86 \t\t 0.000968\n",
      "87 \t\t 0.000910\n",
      "88 \t\t 0.000856\n",
      "89 \t\t 0.000805\n",
      "90 \t\t 0.000757\n",
      "91 \t\t 0.000712\n",
      "92 \t\t 0.000671\n",
      "93 \t\t 0.000632\n",
      "94 \t\t 0.000595\n",
      "95 \t\t 0.000561\n",
      "96 \t\t 0.000529\n",
      "97 \t\t 0.000498\n",
      "98 \t\t 0.000470\n",
      "99 \t\t 0.000444\n",
      "100 \t\t 0.000419\n",
      "101 \t\t 0.000395\n",
      "102 \t\t 0.000373\n",
      "103 \t\t 0.000353\n",
      "104 \t\t 0.000333\n",
      "105 \t\t 0.000315\n",
      "106 \t\t 0.000298\n",
      "107 \t\t 0.000282\n",
      "108 \t\t 0.000267\n",
      "109 \t\t 0.000253\n",
      "110 \t\t 0.000239\n",
      "111 \t\t 0.000226\n",
      "112 \t\t 0.000214\n",
      "113 \t\t 0.000203\n",
      "114 \t\t 0.000193\n",
      "115 \t\t 0.000183\n",
      "116 \t\t 0.000173\n",
      "117 \t\t 0.000164\n",
      "118 \t\t 0.000156\n",
      "119 \t\t 0.000148\n",
      "120 \t\t 0.000140\n",
      "121 \t\t 0.000133\n",
      "122 \t\t 0.000127\n",
      "123 \t\t 0.000120\n",
      "124 \t\t 0.000114\n",
      "125 \t\t 0.000109\n",
      "126 \t\t 0.000103\n",
      "127 \t\t 0.000098\n",
      "128 \t\t 0.000093\n",
      "129 \t\t 0.000089\n",
      "130 \t\t 0.000085\n",
      "131 \t\t 0.000080\n",
      "132 \t\t 0.000077\n",
      "133 \t\t 0.000073\n",
      "134 \t\t 0.000069\n",
      "135 \t\t 0.000066\n",
      "136 \t\t 0.000063\n",
      "137 \t\t 0.000060\n",
      "138 \t\t 0.000057\n",
      "139 \t\t 0.000055\n",
      "140 \t\t 0.000052\n",
      "141 \t\t 0.000050\n",
      "142 \t\t 0.000047\n",
      "143 \t\t 0.000045\n",
      "144 \t\t 0.000043\n",
      "145 \t\t 0.000041\n",
      "146 \t\t 0.000039\n",
      "147 \t\t 0.000038\n",
      "148 \t\t 0.000036\n",
      "149 \t\t 0.000034\n",
      "150 \t\t 0.000033\n",
      "151 \t\t 0.000031\n",
      "152 \t\t 0.000030\n",
      "153 \t\t 0.000029\n",
      "154 \t\t 0.000027\n",
      "155 \t\t 0.000026\n",
      "156 \t\t 0.000025\n",
      "157 \t\t 0.000024\n",
      "158 \t\t 0.000023\n",
      "159 \t\t 0.000022\n",
      "160 \t\t 0.000021\n",
      "161 \t\t 0.000020\n",
      "162 \t\t 0.000019\n",
      "163 \t\t 0.000018\n",
      "164 \t\t 0.000018\n",
      "165 \t\t 0.000017\n",
      "166 \t\t 0.000016\n",
      "167 \t\t 0.000015\n",
      "168 \t\t 0.000015\n",
      "169 \t\t 0.000014\n",
      "170 \t\t 0.000014\n",
      "171 \t\t 0.000013\n",
      "172 \t\t 0.000013\n",
      "173 \t\t 0.000012\n",
      "174 \t\t 0.000012\n",
      "175 \t\t 0.000011\n",
      "176 \t\t 0.000011\n",
      "177 \t\t 0.000010\n",
      "178 \t\t 0.000010\n",
      "179 \t\t 0.000009\n",
      "180 \t\t 0.000009\n",
      "181 \t\t 0.000009\n",
      "182 \t\t 0.000008\n",
      "183 \t\t 0.000008\n",
      "184 \t\t 0.000008\n",
      "185 \t\t 0.000007\n",
      "186 \t\t 0.000007\n",
      "187 \t\t 0.000007\n",
      "188 \t\t 0.000007\n",
      "189 \t\t 0.000006\n",
      "190 \t\t 0.000006\n",
      "191 \t\t 0.000006\n",
      "192 \t\t 0.000006\n",
      "193 \t\t 0.000005\n",
      "194 \t\t 0.000005\n",
      "195 \t\t 0.000005\n",
      "196 \t\t 0.000005\n",
      "197 \t\t 0.000005\n",
      "198 \t\t 0.000004\n",
      "199 \t\t 0.000004\n",
      "200 \t\t 0.000004\n",
      "201 \t\t 0.000004\n",
      "202 \t\t 0.000004\n",
      "203 \t\t 0.000004\n",
      "204 \t\t 0.000004\n",
      "205 \t\t 0.000003\n",
      "206 \t\t 0.000003\n",
      "207 \t\t 0.000003\n",
      "208 \t\t 0.000003\n",
      "209 \t\t 0.000003\n",
      "210 \t\t 0.000003\n",
      "211 \t\t 0.000003\n",
      "212 \t\t 0.000003\n",
      "213 \t\t 0.000003\n",
      "214 \t\t 0.000002\n",
      "215 \t\t 0.000002\n",
      "216 \t\t 0.000002\n",
      "217 \t\t 0.000002\n",
      "218 \t\t 0.000002\n",
      "219 \t\t 0.000002\n",
      "220 \t\t 0.000002\n",
      "221 \t\t 0.000002\n",
      "222 \t\t 0.000002\n",
      "223 \t\t 0.000002\n",
      "224 \t\t 0.000002\n",
      "225 \t\t 0.000002\n",
      "226 \t\t 0.000002\n",
      "227 \t\t 0.000002\n",
      "228 \t\t 0.000002\n",
      "229 \t\t 0.000001\n",
      "230 \t\t 0.000001\n",
      "231 \t\t 0.000001\n",
      "232 \t\t 0.000001\n",
      "233 \t\t 0.000001\n",
      "234 \t\t 0.000001\n",
      "235 \t\t 0.000001\n",
      "236 \t\t 0.000001\n",
      "237 \t\t 0.000001\n",
      "238 \t\t 0.000001\n",
      "239 \t\t 0.000001\n",
      "240 \t\t 0.000001\n",
      "241 \t\t 0.000001\n",
      "242 \t\t 0.000001\n",
      "243 \t\t 0.000001\n",
      "244 \t\t 0.000001\n",
      "245 \t\t 0.000001\n",
      "246 \t\t 0.000001\n",
      "247 \t\t 0.000001\n",
      "248 \t\t 0.000001\n",
      "249 \t\t 0.000001\n",
      "250 \t\t 0.000001\n"
     ]
    }
   ],
   "source": [
    "# Create user-by-item matrix - nothing to do here\n",
    "train_user_item = train_df[['user_id', 'movie_id', 'rating', 'timestamp']]\n",
    "train_data_df = train_user_item.groupby(['user_id', 'movie_id'])['rating'].max().unstack()\n",
    "train_data_np = np.array(train_data_df)\n",
    "\n",
    "# Fit FunkSVD with the specified hyper parameters to the training data\n",
    "user_mat, movie_mat = FunkSVD(train_data_np, latent_features=15, learning_rate=0.005, iters=250)"
   ]
  },
  {
   "cell_type": "code",
   "execution_count": 115,
   "metadata": {},
   "outputs": [
    {
     "name": "stdout",
     "output_type": "stream",
     "text": [
      "User matrix ((3278, 15))\n"
     ]
    },
    {
     "data": {
      "text/plain": [
       "array([[0.63451654, 0.84312408, 0.64331953, 0.85592343, 1.23577556,\n",
       "        0.67666069, 1.13609345, 0.96206622, 0.80594905, 0.78321994,\n",
       "        0.99872178, 1.02922514, 0.32772012, 0.62088599, 0.55444675],\n",
       "       [1.04862   , 0.65930121, 0.4374963 , 0.46427308, 0.39410273,\n",
       "        0.49666064, 1.29199402, 0.6774238 , 1.17746   , 0.85385014,\n",
       "        0.46898357, 0.86201891, 0.97065847, 0.321303  , 0.55772317]])"
      ]
     },
     "metadata": {},
     "output_type": "display_data"
    },
    {
     "name": "stdout",
     "output_type": "stream",
     "text": [
      "Movie matrix ((15, 2679))\n"
     ]
    },
    {
     "data": {
      "text/plain": [
       "array([[0.05349801, 1.12600069, 0.70279606, ..., 1.11847925, 1.31407404,\n",
       "        0.57840278],\n",
       "       [0.78232151, 0.20140359, 0.59397576, ..., 1.1144085 , 0.88218219,\n",
       "        0.79765197]])"
      ]
     },
     "metadata": {},
     "output_type": "display_data"
    }
   ],
   "source": [
    "from IPython.display import display\n",
    "print('User matrix ({})'.format(user_mat.shape))\n",
    "display(user_mat[:2])\n",
    "print('Movie matrix ({})'.format(movie_mat.shape))\n",
    "display(movie_mat[:2])"
   ]
  },
  {
   "cell_type": "markdown",
   "metadata": {},
   "source": [
    "Now that you have created the **user_mat** and **movie_mat**, we can use this to make predictions for how users would rate movies, by just computing the dot product of the row associated with a user and the column associated with the movie.\n",
    "\n",
    "`3.` Use the comments in the function below to complete the **predict_rating** function."
   ]
  },
  {
   "cell_type": "code",
   "execution_count": 116,
   "metadata": {},
   "outputs": [],
   "source": [
    "def predict_rating(user_matrix, movie_matrix, user_id, movie_id):\n",
    "    '''\n",
    "    INPUT:\n",
    "    user_matrix - user by latent factor matrix\n",
    "    movie_matrix - latent factor by movie matrix\n",
    "    user_id - the user_id from the reviews df\n",
    "    movie_id - the movie_id according the movies df\n",
    "    \n",
    "    OUTPUT:\n",
    "    pred - the predicted rating for user_id-movie_id according to FunkSVD\n",
    "    '''\n",
    "    # Use the training data to create a series of users and movies that matches the ordering in training data\n",
    "    user_id_series = np.array(train_data_df.index)\n",
    "    movie_id_series = np.array(train_data_df.columns)\n",
    "    \n",
    "    # User row and Movie Column\n",
    "    user_row = np.where(user_id_series == user_id)[0][0]\n",
    "    movie_column = np.where(movie_id_series == movie_id)[0][0]\n",
    "    \n",
    "    # Take dot product of that row and column in U and V to make prediction\n",
    "    pred = np.dot(user_matrix[user_row, :], movie_matrix[:, movie_column])\n",
    "\n",
    "    return pred"
   ]
  },
  {
   "cell_type": "code",
   "execution_count": 117,
   "metadata": {},
   "outputs": [
    {
     "data": {
      "text/plain": [
       "6.518042240433809"
      ]
     },
     "execution_count": 117,
     "metadata": {},
     "output_type": "execute_result"
    }
   ],
   "source": [
    "# Test your function with the first user-movie in the user-movie matrix (notice this is a nan)\n",
    "pred_val = predict_rating(user_mat, movie_mat, 8, 2844)\n",
    "pred_val"
   ]
  },
  {
   "cell_type": "markdown",
   "metadata": {},
   "source": [
    "It is great that you now have a way to make predictions. However it might be nice to get a little phrase back about the user, movie, and rating.\n",
    "\n",
    "`4.` Use the comments in the function below to complete the **predict_rating** function.  \n",
    "\n",
    "**Note:** The movie name doesn't come back in a great format, so you can see in the solution I messed around with it a bit just to make it a little nicer."
   ]
  },
  {
   "cell_type": "code",
   "execution_count": 118,
   "metadata": {},
   "outputs": [],
   "source": [
    "def print_prediction_summary(user_id, movie_id, prediction):\n",
    "    '''\n",
    "    INPUT:\n",
    "    user_id - the user_id from the reviews df\n",
    "    movie_id - the movie_id according the movies df\n",
    "    prediction - the predicted rating for user_id-movie_id\n",
    "    \n",
    "    OUTPUT:\n",
    "    None - prints a statement about the user, movie, and prediction made\n",
    "    \n",
    "    '''\n",
    "\n",
    "    movie_name = str(movies[movies['movie_id'] == movie_id]['movie'])[5:].strip()\n",
    "    movie_name = movie_name.replace('\\nName: movie, dtype: object','')\n",
    "    \n",
    "    print('Predicted {:.3f} for user {} and movie \\'{}\\''.format(prediction, user_id, movie_name))"
   ]
  },
  {
   "cell_type": "code",
   "execution_count": 119,
   "metadata": {},
   "outputs": [
    {
     "name": "stdout",
     "output_type": "stream",
     "text": [
      "Predicted 6.518 for user 8 and movie 'Fantômas - À l'ombre de la guillotine (1913)'\n"
     ]
    }
   ],
   "source": [
    "# Test your function the the results of the previous function\n",
    "print_prediction_summary(8, 2844, pred_val)"
   ]
  },
  {
   "cell_type": "markdown",
   "metadata": {},
   "source": [
    "Now that we have the ability to make predictions, let's see how well our predictions do on the test ratings we already have.  This will give an indication of how well we have captured the latent features, and our ability to use the latent features to make predictions in the future!\n",
    "\n",
    "`5.` For each of the user-movie rating in the **val_df** dataset, compare the actual rating given to the prediction you would make.  How do your predictions do?  Do you run into any problems?  If yes, what is the problem?  Use the document strings and comments below to assist as you work through these questions."
   ]
  },
  {
   "cell_type": "code",
   "execution_count": 128,
   "metadata": {},
   "outputs": [
    {
     "name": "stdout",
     "output_type": "stream",
     "text": [
      "Actual rating: 8, Predicted rating: 6.470, (-1.530)\n",
      "Actual rating: 9, Predicted rating: 8.151, (-0.849)\n",
      "Actual rating: 9, Predicted rating: 7.720, (-1.280)\n",
      "Actual rating: 4, Predicted rating: 7.626, (+3.626)\n",
      "Actual rating: 8, Predicted rating: 7.923, (-0.077)\n",
      "Actual rating: 4, Predicted rating: 2.964, (-1.036)\n"
     ]
    }
   ],
   "source": [
    "def validation_comparison(val_df, num_preds):\n",
    "    '''\n",
    "    INPUT:\n",
    "    val_df - the validation dataset created in the third cell above\n",
    "    num_preds - (int) the number of rows (going in order) you would like to make predictions for\n",
    "    \n",
    "    OUTPUT:\n",
    "    Nothing returned - print a statement about the prediciton made for each row of val_df from row 0 to num_preds\n",
    "    '''\n",
    "    \n",
    "    val_users = np.array(val_df['user_id'])\n",
    "    val_movies = np.array(val_df['movie_id'])\n",
    "    val_ratings = np.array(val_df['rating'])\n",
    "    \n",
    "    for idx in range(num_preds):\n",
    "        prediction = predict_rating(user_mat, movie_mat, val_users[idx], val_movies[idx])\n",
    "        print('Actual rating: {:.0f}, Predicted rating: {:.3f}, ({:+.3f})'.format(val_ratings[idx], \n",
    "                                                                     prediction, prediction - val_ratings[idx]))\n",
    "        \n",
    "# Perform the predicted vs. actual for the first 6 rows.  How does it look?\n",
    "validation_comparison(val_df, 6)        "
   ]
  },
  {
   "cell_type": "code",
   "execution_count": 130,
   "metadata": {},
   "outputs": [
    {
     "name": "stdout",
     "output_type": "stream",
     "text": [
      "Actual rating: 8, Predicted rating: 6.470, (-1.530)\n",
      "Actual rating: 9, Predicted rating: 8.151, (-0.849)\n",
      "Actual rating: 9, Predicted rating: 7.720, (-1.280)\n",
      "Actual rating: 4, Predicted rating: 7.626, (+3.626)\n",
      "Actual rating: 8, Predicted rating: 7.923, (-0.077)\n",
      "Actual rating: 4, Predicted rating: 2.964, (-1.036)\n"
     ]
    },
    {
     "ename": "IndexError",
     "evalue": "index 0 is out of bounds for axis 0 with size 0",
     "output_type": "error",
     "traceback": [
      "\u001b[1;31m---------------------------------------------------------------------------\u001b[0m",
      "\u001b[1;31mIndexError\u001b[0m                                Traceback (most recent call last)",
      "\u001b[1;32m<ipython-input-130-70188ffbf3d7>\u001b[0m in \u001b[0;36m<module>\u001b[1;34m\u001b[0m\n\u001b[0;32m      1\u001b[0m \u001b[1;31m# Perform the predicted vs. actual for the first 7 rows.  What happened?\u001b[0m\u001b[1;33m\u001b[0m\u001b[1;33m\u001b[0m\u001b[1;33m\u001b[0m\u001b[0m\n\u001b[1;32m----> 2\u001b[1;33m \u001b[0mvalidation_comparison\u001b[0m\u001b[1;33m(\u001b[0m\u001b[0mval_df\u001b[0m\u001b[1;33m,\u001b[0m \u001b[1;36m7\u001b[0m\u001b[1;33m)\u001b[0m\u001b[1;33m\u001b[0m\u001b[1;33m\u001b[0m\u001b[0m\n\u001b[0m",
      "\u001b[1;32m<ipython-input-128-f2be7f481ca9>\u001b[0m in \u001b[0;36mvalidation_comparison\u001b[1;34m(val_df, num_preds)\u001b[0m\n\u001b[0;32m     14\u001b[0m \u001b[1;33m\u001b[0m\u001b[0m\n\u001b[0;32m     15\u001b[0m     \u001b[1;32mfor\u001b[0m \u001b[0midx\u001b[0m \u001b[1;32min\u001b[0m \u001b[0mrange\u001b[0m\u001b[1;33m(\u001b[0m\u001b[0mnum_preds\u001b[0m\u001b[1;33m)\u001b[0m\u001b[1;33m:\u001b[0m\u001b[1;33m\u001b[0m\u001b[1;33m\u001b[0m\u001b[0m\n\u001b[1;32m---> 16\u001b[1;33m         \u001b[0mprediction\u001b[0m \u001b[1;33m=\u001b[0m \u001b[0mpredict_rating\u001b[0m\u001b[1;33m(\u001b[0m\u001b[0muser_mat\u001b[0m\u001b[1;33m,\u001b[0m \u001b[0mmovie_mat\u001b[0m\u001b[1;33m,\u001b[0m \u001b[0mval_users\u001b[0m\u001b[1;33m[\u001b[0m\u001b[0midx\u001b[0m\u001b[1;33m]\u001b[0m\u001b[1;33m,\u001b[0m \u001b[0mval_movies\u001b[0m\u001b[1;33m[\u001b[0m\u001b[0midx\u001b[0m\u001b[1;33m]\u001b[0m\u001b[1;33m)\u001b[0m\u001b[1;33m\u001b[0m\u001b[1;33m\u001b[0m\u001b[0m\n\u001b[0m\u001b[0;32m     17\u001b[0m         print('Actual rating: {:.0f}, Predicted rating: {:.3f}, ({:+.3f})'.format(val_ratings[idx], \n\u001b[0;32m     18\u001b[0m                                                                      prediction, prediction - val_ratings[idx]))\n",
      "\u001b[1;32m<ipython-input-116-b97b95cf8e35>\u001b[0m in \u001b[0;36mpredict_rating\u001b[1;34m(user_matrix, movie_matrix, user_id, movie_id)\u001b[0m\n\u001b[0;32m     16\u001b[0m     \u001b[1;31m# User row and Movie Column\u001b[0m\u001b[1;33m\u001b[0m\u001b[1;33m\u001b[0m\u001b[1;33m\u001b[0m\u001b[0m\n\u001b[0;32m     17\u001b[0m     \u001b[0muser_row\u001b[0m \u001b[1;33m=\u001b[0m \u001b[0mnp\u001b[0m\u001b[1;33m.\u001b[0m\u001b[0mwhere\u001b[0m\u001b[1;33m(\u001b[0m\u001b[0muser_id_series\u001b[0m \u001b[1;33m==\u001b[0m \u001b[0muser_id\u001b[0m\u001b[1;33m)\u001b[0m\u001b[1;33m[\u001b[0m\u001b[1;36m0\u001b[0m\u001b[1;33m]\u001b[0m\u001b[1;33m[\u001b[0m\u001b[1;36m0\u001b[0m\u001b[1;33m]\u001b[0m\u001b[1;33m\u001b[0m\u001b[1;33m\u001b[0m\u001b[0m\n\u001b[1;32m---> 18\u001b[1;33m     \u001b[0mmovie_column\u001b[0m \u001b[1;33m=\u001b[0m \u001b[0mnp\u001b[0m\u001b[1;33m.\u001b[0m\u001b[0mwhere\u001b[0m\u001b[1;33m(\u001b[0m\u001b[0mmovie_id_series\u001b[0m \u001b[1;33m==\u001b[0m \u001b[0mmovie_id\u001b[0m\u001b[1;33m)\u001b[0m\u001b[1;33m[\u001b[0m\u001b[1;36m0\u001b[0m\u001b[1;33m]\u001b[0m\u001b[1;33m[\u001b[0m\u001b[1;36m0\u001b[0m\u001b[1;33m]\u001b[0m\u001b[1;33m\u001b[0m\u001b[1;33m\u001b[0m\u001b[0m\n\u001b[0m\u001b[0;32m     19\u001b[0m \u001b[1;33m\u001b[0m\u001b[0m\n\u001b[0;32m     20\u001b[0m     \u001b[1;31m# Take dot product of that row and column in U and V to make prediction\u001b[0m\u001b[1;33m\u001b[0m\u001b[1;33m\u001b[0m\u001b[1;33m\u001b[0m\u001b[0m\n",
      "\u001b[1;31mIndexError\u001b[0m: index 0 is out of bounds for axis 0 with size 0"
     ]
    }
   ],
   "source": [
    "# Perform the predicted vs. actual for the first 7 rows.  What happened?\n",
    "validation_comparison(val_df, 7)        "
   ]
  },
  {
   "cell_type": "markdown",
   "metadata": {
    "collapsed": true
   },
   "source": [
    "There was a new movie in the testing set which was not present in the training set. We're having the cold start problem here"
   ]
  }
 ],
 "metadata": {
  "kernelspec": {
   "display_name": "Python 3",
   "language": "python",
   "name": "python3"
  },
  "language_info": {
   "codemirror_mode": {
    "name": "ipython",
    "version": 3
   },
   "file_extension": ".py",
   "mimetype": "text/x-python",
   "name": "python",
   "nbconvert_exporter": "python",
   "pygments_lexer": "ipython3",
   "version": "3.7.2"
  }
 },
 "nbformat": 4,
 "nbformat_minor": 2
}
