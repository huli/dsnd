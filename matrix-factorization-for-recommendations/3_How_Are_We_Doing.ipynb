{
 "cells": [
  {
   "cell_type": "markdown",
   "metadata": {},
   "source": [
    "### How Are We Doing?\n",
    "\n",
    "In the last notebook, you created a working version of SVD for situations even when there are tons of missing values.  This is awesome!  The question now is how well does this solution work?\n",
    "\n",
    "In this notebook, we are going to simulate exactly what we would do in the real world to tune our recommender.  \n",
    "\n",
    "Run the cell below to read in the data and get started."
   ]
  },
  {
   "cell_type": "code",
   "execution_count": 1,
   "metadata": {},
   "outputs": [],
   "source": [
    "import numpy as np\n",
    "import pandas as pd\n",
    "\n",
    "# Read in the datasets\n",
    "movies = pd.read_csv('data/movies_clean.csv')\n",
    "reviews = pd.read_csv('data/reviews_clean.csv')\n",
    "\n",
    "del movies['Unnamed: 0']\n",
    "del reviews['Unnamed: 0']"
   ]
  },
  {
   "cell_type": "markdown",
   "metadata": {},
   "source": [
    "1. Using the **reviews** dataframe, perform the following tasks to create a training and validation set of data we can use to test the performance of your SVD algorithm using **off-line** validation techniques.\n",
    "\n",
    " * Order the reviews dataframe from earliest to most recent \n",
    " * Pull the first 10000 reviews from  the dataset\n",
    " * Make the first 8000/10000 reviews the training data \n",
    " * Make the last 2000/10000 the test data\n",
    " * Return the training and test datasets"
   ]
  },
  {
   "cell_type": "code",
   "execution_count": 24,
   "metadata": {},
   "outputs": [],
   "source": [
    "def create_train_test(reviews, order_by, training_size, testing_size):\n",
    "    '''    \n",
    "    INPUT:\n",
    "    reviews - (pandas df) dataframe to split into train and test\n",
    "    order_by - (string) column name to sort by\n",
    "    training_size - (int) number of rows in training set\n",
    "    testing_size - (int) number of columns in the test set\n",
    "    \n",
    "    OUTPUT:\n",
    "    training_df -  (pandas df) dataframe of the training set\n",
    "    validation_df - (pandas df) dataframe of the test set\n",
    "    '''\n",
    "    \n",
    "    reviews_ordered = reviews.sort_values(order_by)\n",
    "    training_df = reviews_ordered.iloc[:training_size, :]\n",
    "    validation_df = reviews_ordered.iloc[-testing_size:, :]\n",
    "\n",
    "    return training_df, validation_df"
   ]
  },
  {
   "cell_type": "code",
   "execution_count": 25,
   "metadata": {},
   "outputs": [],
   "source": [
    "# Nothing to change in this or the next cell\n",
    "# Use our function to create training and test datasets\n",
    "train_df, val_df = create_train_test(reviews, 'date', 8000, 2000)"
   ]
  },
  {
   "cell_type": "code",
   "execution_count": 28,
   "metadata": {},
   "outputs": [
    {
     "name": "stdout",
     "output_type": "stream",
     "text": [
      "Nice job!  Looks like you have written a function that provides training and validation dataframes for you to use in the next steps.\n"
     ]
    }
   ],
   "source": [
    "# Make sure the dataframes we are using are the right shape\n",
    "assert train_df.shape[0] == 8000, \"The number of rows doesn't look right in the training dataset.\"\n",
    "assert val_df.shape[0] == 2000, \"The number of rows doesn't look right in the validation dataset\"\n",
    "assert str(train_df.tail(1)['date']).split()[1] == '2013-03-15', \"The last date in the training dataset doesn't look like what we expected.\"\n",
    "assert str(val_df.tail(1)['date']).split()[1] == '2018-06-26', \"The last date in the validation dataset doesn't look like what we expected.\"\n",
    "print(\"Nice job!  Looks like you have written a function that provides training and validation dataframes for you to use in the next steps.\")"
   ]
  },
  {
   "cell_type": "markdown",
   "metadata": {},
   "source": [
    "In the real world, we might have all of the data up to this final date in the training data.  Then we want to see how well we are doing for each of the new ratings, which show up in the test data.\n",
    "\n",
    "Below is a working example of the function created in the previous example you can use (or you can replace with your own).\n",
    "\n",
    "`2.`  Fit the function to the training data with the following hyperparameters: 15 latent features, a learning rate of 0.005, and 250 iterations. This will take some time to run, so you may choose fewer latent features, a higher learning rate, or fewer iteratios if you want to speed up the process.  \n",
    "\n",
    "**Note:** Again, this might be a good time to take a phone call, go for a walk, or just take a little break.  No need to change the code below unless you would like to make changes to reduce the time needed to obtain results."
   ]
  },
  {
   "cell_type": "code",
   "execution_count": 34,
   "metadata": {},
   "outputs": [],
   "source": [
    "def FunkSVD(ratings_mat, latent_features=12, learning_rate=0.0001, iters=100):\n",
    "    '''\n",
    "    This function performs matrix factorization using a basic form of FunkSVD with no regularization\n",
    "    \n",
    "    INPUT:\n",
    "    ratings_mat - (numpy array) a matrix with users as rows, movies as columns, and ratings as values\n",
    "    latent_features - (int) the number of latent features used\n",
    "    learning_rate - (float) the learning rate \n",
    "    iters - (int) the number of iterations\n",
    "    \n",
    "    OUTPUT:\n",
    "    user_mat - (numpy array) a user by latent feature matrix\n",
    "    movie_mat - (numpy array) a latent feature by movie matrix\n",
    "    '''\n",
    "    \n",
    "    # Set up useful values to be used through the rest of the function\n",
    "    n_users = ratings_mat.shape[0]\n",
    "    n_movies = ratings_mat.shape[1]\n",
    "    num_ratings = np.count_nonzero(~np.isnan(ratings_mat))\n",
    "    \n",
    "    # initialize the user and movie matrices with random values\n",
    "    user_mat = np.random.rand(n_users, latent_features)\n",
    "    movie_mat = np.random.rand(latent_features, n_movies)\n",
    "    \n",
    "    # initialize sse at 0 for first iteration\n",
    "    sse_accum = 0\n",
    "    \n",
    "    # keep track of iteration and MSE\n",
    "    print(\"Optimizaiton Statistics\")\n",
    "    print(\"Iterations | Mean Squared Error \")\n",
    "    \n",
    "    # for each iteration\n",
    "    for iteration in range(iters):\n",
    "\n",
    "        # update our sse\n",
    "        old_sse = sse_accum\n",
    "        sse_accum = 0\n",
    "        \n",
    "        # For each user-movie pair\n",
    "        for i in range(n_users):\n",
    "            for j in range(n_movies):\n",
    "                \n",
    "                # if the rating exists\n",
    "                if ratings_mat[i, j] > 0:\n",
    "                    \n",
    "                    # compute the error as the actual minus the dot product of the user and movie latent features\n",
    "                    diff = ratings_mat[i, j] - np.dot(user_mat[i, :], movie_mat[:, j])\n",
    "                    \n",
    "                    # Keep track of the sum of squared errors for the matrix\n",
    "                    sse_accum += diff**2\n",
    "                    \n",
    "                    # update the values in each matrix in the direction of the gradient\n",
    "                    for k in range(latent_features):\n",
    "                        user_mat[i, k] += learning_rate * (2*diff*movie_mat[k, j])\n",
    "                        movie_mat[k, j] += learning_rate * (2*diff*user_mat[i, k])\n",
    "\n",
    "        # print results\n",
    "        print(\"%d \\t\\t %f\" % (iteration+1, sse_accum / num_ratings))\n",
    "        \n",
    "    return user_mat, movie_mat "
   ]
  },
  {
   "cell_type": "code",
   "execution_count": 35,
   "metadata": {},
   "outputs": [
    {
     "name": "stdout",
     "output_type": "stream",
     "text": [
      "Optimizaiton Statistics\n",
      "Iterations | Mean Squared Error \n",
      "1 \t\t 10.783912\n",
      "2 \t\t 6.021096\n",
      "3 \t\t 4.185582\n",
      "4 \t\t 3.119190\n",
      "5 \t\t 2.420585\n",
      "6 \t\t 1.928189\n",
      "7 \t\t 1.564196\n",
      "8 \t\t 1.286347\n",
      "9 \t\t 1.069377\n",
      "10 \t\t 0.897041\n",
      "11 \t\t 0.758328\n",
      "12 \t\t 0.645466\n",
      "13 \t\t 0.552795\n",
      "14 \t\t 0.476093\n",
      "15 \t\t 0.412143\n",
      "16 \t\t 0.358463\n",
      "17 \t\t 0.313118\n",
      "18 \t\t 0.274588\n",
      "19 \t\t 0.241672\n",
      "20 \t\t 0.213413\n",
      "21 \t\t 0.189045\n",
      "22 \t\t 0.167945\n",
      "23 \t\t 0.149608\n",
      "24 \t\t 0.133618\n",
      "25 \t\t 0.119628\n",
      "26 \t\t 0.107352\n",
      "27 \t\t 0.096549\n",
      "28 \t\t 0.087015\n",
      "29 \t\t 0.078579\n",
      "30 \t\t 0.071094\n",
      "31 \t\t 0.064437\n",
      "32 \t\t 0.058502\n",
      "33 \t\t 0.053198\n",
      "34 \t\t 0.048448\n",
      "35 \t\t 0.044185\n",
      "36 \t\t 0.040350\n",
      "37 \t\t 0.036895\n",
      "38 \t\t 0.033776\n",
      "39 \t\t 0.030955\n",
      "40 \t\t 0.028400\n",
      "41 \t\t 0.026083\n",
      "42 \t\t 0.023977\n",
      "43 \t\t 0.022061\n",
      "44 \t\t 0.020316\n",
      "45 \t\t 0.018725\n",
      "46 \t\t 0.017272\n",
      "47 \t\t 0.015943\n",
      "48 \t\t 0.014728\n",
      "49 \t\t 0.013614\n",
      "50 \t\t 0.012594\n",
      "51 \t\t 0.011657\n",
      "52 \t\t 0.010797\n",
      "53 \t\t 0.010006\n",
      "54 \t\t 0.009279\n",
      "55 \t\t 0.008609\n",
      "56 \t\t 0.007993\n",
      "57 \t\t 0.007424\n",
      "58 \t\t 0.006900\n",
      "59 \t\t 0.006416\n",
      "60 \t\t 0.005969\n",
      "61 \t\t 0.005555\n",
      "62 \t\t 0.005173\n",
      "63 \t\t 0.004820\n",
      "64 \t\t 0.004492\n",
      "65 \t\t 0.004189\n",
      "66 \t\t 0.003908\n",
      "67 \t\t 0.003647\n",
      "68 \t\t 0.003406\n",
      "69 \t\t 0.003181\n",
      "70 \t\t 0.002973\n",
      "71 \t\t 0.002779\n",
      "72 \t\t 0.002599\n",
      "73 \t\t 0.002432\n",
      "74 \t\t 0.002276\n",
      "75 \t\t 0.002131\n",
      "76 \t\t 0.001996\n",
      "77 \t\t 0.001870\n",
      "78 \t\t 0.001753\n",
      "79 \t\t 0.001644\n",
      "80 \t\t 0.001542\n",
      "81 \t\t 0.001447\n",
      "82 \t\t 0.001358\n",
      "83 \t\t 0.001275\n",
      "84 \t\t 0.001198\n",
      "85 \t\t 0.001125\n",
      "86 \t\t 0.001058\n",
      "87 \t\t 0.000994\n",
      "88 \t\t 0.000935\n",
      "89 \t\t 0.000880\n",
      "90 \t\t 0.000828\n",
      "91 \t\t 0.000779\n",
      "92 \t\t 0.000734\n",
      "93 \t\t 0.000691\n",
      "94 \t\t 0.000651\n",
      "95 \t\t 0.000614\n",
      "96 \t\t 0.000579\n",
      "97 \t\t 0.000546\n",
      "98 \t\t 0.000515\n",
      "99 \t\t 0.000486\n",
      "100 \t\t 0.000459\n",
      "101 \t\t 0.000433\n",
      "102 \t\t 0.000409\n",
      "103 \t\t 0.000386\n",
      "104 \t\t 0.000365\n",
      "105 \t\t 0.000345\n",
      "106 \t\t 0.000326\n",
      "107 \t\t 0.000309\n",
      "108 \t\t 0.000292\n",
      "109 \t\t 0.000276\n",
      "110 \t\t 0.000262\n",
      "111 \t\t 0.000248\n",
      "112 \t\t 0.000235\n",
      "113 \t\t 0.000222\n",
      "114 \t\t 0.000211\n",
      "115 \t\t 0.000200\n",
      "116 \t\t 0.000189\n",
      "117 \t\t 0.000179\n",
      "118 \t\t 0.000170\n",
      "119 \t\t 0.000162\n",
      "120 \t\t 0.000153\n",
      "121 \t\t 0.000146\n",
      "122 \t\t 0.000138\n",
      "123 \t\t 0.000131\n",
      "124 \t\t 0.000125\n",
      "125 \t\t 0.000119\n",
      "126 \t\t 0.000113\n",
      "127 \t\t 0.000107\n",
      "128 \t\t 0.000102\n",
      "129 \t\t 0.000097\n",
      "130 \t\t 0.000092\n",
      "131 \t\t 0.000088\n",
      "132 \t\t 0.000084\n",
      "133 \t\t 0.000080\n",
      "134 \t\t 0.000076\n",
      "135 \t\t 0.000072\n",
      "136 \t\t 0.000069\n",
      "137 \t\t 0.000066\n",
      "138 \t\t 0.000063\n",
      "139 \t\t 0.000060\n",
      "140 \t\t 0.000057\n",
      "141 \t\t 0.000054\n",
      "142 \t\t 0.000052\n",
      "143 \t\t 0.000049\n",
      "144 \t\t 0.000047\n",
      "145 \t\t 0.000045\n",
      "146 \t\t 0.000043\n",
      "147 \t\t 0.000041\n",
      "148 \t\t 0.000039\n",
      "149 \t\t 0.000038\n",
      "150 \t\t 0.000036\n",
      "151 \t\t 0.000034\n",
      "152 \t\t 0.000033\n",
      "153 \t\t 0.000031\n",
      "154 \t\t 0.000030\n",
      "155 \t\t 0.000029\n",
      "156 \t\t 0.000027\n",
      "157 \t\t 0.000026\n",
      "158 \t\t 0.000025\n",
      "159 \t\t 0.000024\n",
      "160 \t\t 0.000023\n",
      "161 \t\t 0.000022\n",
      "162 \t\t 0.000021\n",
      "163 \t\t 0.000020\n",
      "164 \t\t 0.000019\n",
      "165 \t\t 0.000019\n",
      "166 \t\t 0.000018\n",
      "167 \t\t 0.000017\n",
      "168 \t\t 0.000016\n",
      "169 \t\t 0.000016\n",
      "170 \t\t 0.000015\n",
      "171 \t\t 0.000014\n",
      "172 \t\t 0.000014\n",
      "173 \t\t 0.000013\n",
      "174 \t\t 0.000013\n",
      "175 \t\t 0.000012\n",
      "176 \t\t 0.000012\n",
      "177 \t\t 0.000011\n",
      "178 \t\t 0.000011\n",
      "179 \t\t 0.000010\n",
      "180 \t\t 0.000010\n",
      "181 \t\t 0.000010\n",
      "182 \t\t 0.000009\n",
      "183 \t\t 0.000009\n",
      "184 \t\t 0.000008\n",
      "185 \t\t 0.000008\n",
      "186 \t\t 0.000008\n",
      "187 \t\t 0.000008\n",
      "188 \t\t 0.000007\n",
      "189 \t\t 0.000007\n",
      "190 \t\t 0.000007\n",
      "191 \t\t 0.000006\n",
      "192 \t\t 0.000006\n",
      "193 \t\t 0.000006\n",
      "194 \t\t 0.000006\n",
      "195 \t\t 0.000006\n",
      "196 \t\t 0.000005\n",
      "197 \t\t 0.000005\n",
      "198 \t\t 0.000005\n",
      "199 \t\t 0.000005\n",
      "200 \t\t 0.000005\n",
      "201 \t\t 0.000004\n",
      "202 \t\t 0.000004\n",
      "203 \t\t 0.000004\n",
      "204 \t\t 0.000004\n",
      "205 \t\t 0.000004\n",
      "206 \t\t 0.000004\n",
      "207 \t\t 0.000003\n",
      "208 \t\t 0.000003\n",
      "209 \t\t 0.000003\n",
      "210 \t\t 0.000003\n",
      "211 \t\t 0.000003\n",
      "212 \t\t 0.000003\n",
      "213 \t\t 0.000003\n",
      "214 \t\t 0.000003\n",
      "215 \t\t 0.000003\n",
      "216 \t\t 0.000003\n",
      "217 \t\t 0.000002\n",
      "218 \t\t 0.000002\n",
      "219 \t\t 0.000002\n",
      "220 \t\t 0.000002\n",
      "221 \t\t 0.000002\n",
      "222 \t\t 0.000002\n",
      "223 \t\t 0.000002\n",
      "224 \t\t 0.000002\n",
      "225 \t\t 0.000002\n",
      "226 \t\t 0.000002\n",
      "227 \t\t 0.000002\n",
      "228 \t\t 0.000002\n",
      "229 \t\t 0.000002\n",
      "230 \t\t 0.000002\n",
      "231 \t\t 0.000001\n",
      "232 \t\t 0.000001\n",
      "233 \t\t 0.000001\n",
      "234 \t\t 0.000001\n",
      "235 \t\t 0.000001\n",
      "236 \t\t 0.000001\n",
      "237 \t\t 0.000001\n",
      "238 \t\t 0.000001\n",
      "239 \t\t 0.000001\n",
      "240 \t\t 0.000001\n",
      "241 \t\t 0.000001\n",
      "242 \t\t 0.000001\n",
      "243 \t\t 0.000001\n",
      "244 \t\t 0.000001\n",
      "245 \t\t 0.000001\n",
      "246 \t\t 0.000001\n",
      "247 \t\t 0.000001\n",
      "248 \t\t 0.000001\n",
      "249 \t\t 0.000001\n",
      "250 \t\t 0.000001\n"
     ]
    }
   ],
   "source": [
    "# Create user-by-item matrix - nothing to do here\n",
    "train_user_item = train_df[['user_id', 'movie_id', 'rating', 'timestamp']]\n",
    "train_data_df = train_user_item.groupby(['user_id', 'movie_id'])['rating'].max().unstack()\n",
    "train_data_np = np.array(train_data_df)\n",
    "\n",
    "# Fit FunkSVD with the specified hyper parameters to the training data\n",
    "user_mat, movie_mat = FunkSVD(train_data_np, latent_features=15, learning_rate=0.005, iters=250)"
   ]
  },
  {
   "cell_type": "code",
   "execution_count": 43,
   "metadata": {},
   "outputs": [
    {
     "name": "stdout",
     "output_type": "stream",
     "text": [
      "User matrix ((3278, 15))\n"
     ]
    },
    {
     "data": {
      "text/plain": [
       "array([[1.26234489, 0.71027722, 0.54154857, 0.76870232, 0.173731  ,\n",
       "        0.2471329 , 0.88267401, 0.52237839, 1.32938423, 0.91764404,\n",
       "        0.29580662, 0.78574403, 0.50271915, 0.77467657, 1.31073468],\n",
       "       [0.43255519, 0.06628013, 0.36104671, 0.88716571, 0.8995718 ,\n",
       "        0.74148237, 0.52991627, 1.31256635, 0.80131804, 0.84689866,\n",
       "        0.95614953, 0.67136021, 0.96245883, 1.16316706, 1.01091799]])"
      ]
     },
     "metadata": {},
     "output_type": "display_data"
    },
    {
     "name": "stdout",
     "output_type": "stream",
     "text": [
      "Movie matrix ((15, 2679))\n"
     ]
    },
    {
     "data": {
      "text/plain": [
       "array([[0.67974341, 0.81753483, 0.01855381, ..., 1.12653174, 0.71414012,\n",
       "        0.54227889],\n",
       "       [0.9475856 , 0.45118407, 0.26365458, ..., 0.36684697, 1.16500278,\n",
       "        0.34758394]])"
      ]
     },
     "metadata": {},
     "output_type": "display_data"
    }
   ],
   "source": [
    "from IPython.display import display\n",
    "print('User matrix ({})'.format(user_mat.shape))\n",
    "display(user_mat[:2])\n",
    "print('Movie matrix ({})'.format(movie_mat.shape))\n",
    "display(movie_mat[:2])"
   ]
  },
  {
   "cell_type": "markdown",
   "metadata": {},
   "source": [
    "Now that you have created the **user_mat** and **movie_mat**, we can use this to make predictions for how users would rate movies, by just computing the dot product of the row associated with a user and the column associated with the movie.\n",
    "\n",
    "`3.` Use the comments in the function below to complete the **predict_rating** function."
   ]
  },
  {
   "cell_type": "code",
   "execution_count": 59,
   "metadata": {},
   "outputs": [
    {
     "data": {
      "text/plain": [
       "1"
      ]
     },
     "execution_count": 59,
     "metadata": {},
     "output_type": "execute_result"
    }
   ],
   "source": [
    "foo = np.array(train_data_df.index)\n",
    "np.where(foo == 46)[0][0]"
   ]
  },
  {
   "cell_type": "code",
   "execution_count": null,
   "metadata": {},
   "outputs": [],
   "source": [
    "np"
   ]
  },
  {
   "cell_type": "code",
   "execution_count": null,
   "metadata": {
    "collapsed": true
   },
   "outputs": [],
   "source": [
    "def predict_rating(user_matrix, movie_matrix, user_id, movie_id):\n",
    "    '''\n",
    "    INPUT:\n",
    "    user_matrix - user by latent factor matrix\n",
    "    movie_matrix - latent factor by movie matrix\n",
    "    user_id - the user_id from the reviews df\n",
    "    movie_id - the movie_id according the movies df\n",
    "    \n",
    "    OUTPUT:\n",
    "    pred - the predicted rating for user_id-movie_id according to FunkSVD\n",
    "    '''\n",
    "    # Use the training data to create a series of users and movies that matches the ordering in training data\n",
    "    user_id_series = np.array(train_data_df.index)\n",
    "    movie_id_series = np.array(train_data_df.columns)\n",
    "    \n",
    "    # User row and Movie Column\n",
    "    user_row = np.where(user_id_series == user_id)[0][0]\n",
    "    movie_column = np.where(movie_id_series == movie_id)[0][0]\n",
    "    \n",
    "    # Take dot product of that row and column in U and V to make prediction\n",
    "    pred = np.dot(us)\n",
    "\n",
    "    return pred"
   ]
  },
  {
   "cell_type": "code",
   "execution_count": null,
   "metadata": {},
   "outputs": [],
   "source": [
    "# Test your function with the first user-movie in the user-movie matrix (notice this is a nan)\n",
    "pred_val = predict_rating(user_mat, movie_mat, 8, 2844)\n",
    "pred_val"
   ]
  },
  {
   "cell_type": "markdown",
   "metadata": {},
   "source": [
    "It is great that you now have a way to make predictions. However it might be nice to get a little phrase back about the user, movie, and rating.\n",
    "\n",
    "`4.` Use the comments in the function below to complete the **predict_rating** function.  \n",
    "\n",
    "**Note:** The movie name doesn't come back in a great format, so you can see in the solution I messed around with it a bit just to make it a little nicer."
   ]
  },
  {
   "cell_type": "code",
   "execution_count": null,
   "metadata": {
    "collapsed": true
   },
   "outputs": [],
   "source": [
    "def print_prediction_summary(user_id, movie_id, prediction):\n",
    "    '''\n",
    "    INPUT:\n",
    "    user_id - the user_id from the reviews df\n",
    "    movie_id - the movie_id according the movies df\n",
    "    prediction - the predicted rating for user_id-movie_id\n",
    "    \n",
    "    OUTPUT:\n",
    "    None - prints a statement about the user, movie, and prediction made\n",
    "    \n",
    "    '''\n"
   ]
  },
  {
   "cell_type": "code",
   "execution_count": null,
   "metadata": {},
   "outputs": [],
   "source": [
    "# Test your function the the results of the previous function\n",
    "print_prediction_summary(8, 2844, pred_val)"
   ]
  },
  {
   "cell_type": "markdown",
   "metadata": {},
   "source": [
    "Now that we have the ability to make predictions, let's see how well our predictions do on the test ratings we already have.  This will give an indication of how well we have captured the latent features, and our ability to use the latent features to make predictions in the future!\n",
    "\n",
    "`5.` For each of the user-movie rating in the **val_df** dataset, compare the actual rating given to the prediction you would make.  How do your predictions do?  Do you run into any problems?  If yes, what is the problem?  Use the document strings and comments below to assist as you work through these questions."
   ]
  },
  {
   "cell_type": "code",
   "execution_count": null,
   "metadata": {},
   "outputs": [],
   "source": [
    "def validation_comparison(val_df, num_preds):\n",
    "    '''\n",
    "    INPUT:\n",
    "    val_df - the validation dataset created in the third cell above\n",
    "    num_preds - (int) the number of rows (going in order) you would like to make predictions for\n",
    "    \n",
    "    OUTPUT:\n",
    "    Nothing returned - print a statement about the prediciton made for each row of val_df from row 0 to num_preds\n",
    "    '''\n",
    "        \n",
    "# Perform the predicted vs. actual for the first 6 rows.  How does it look?\n",
    "validation_comparison(val_df, 6)        "
   ]
  },
  {
   "cell_type": "code",
   "execution_count": null,
   "metadata": {},
   "outputs": [],
   "source": [
    "# Perform the predicted vs. actual for the first 7 rows.  What happened?\n",
    "validation_comparison(val_df, 7)        "
   ]
  },
  {
   "cell_type": "markdown",
   "metadata": {},
   "source": [
    "** A statement about why you think what happened happened.**"
   ]
  },
  {
   "cell_type": "code",
   "execution_count": null,
   "metadata": {
    "collapsed": true
   },
   "outputs": [],
   "source": []
  }
 ],
 "metadata": {
  "kernelspec": {
   "display_name": "Python 3",
   "language": "python",
   "name": "python3"
  },
  "language_info": {
   "codemirror_mode": {
    "name": "ipython",
    "version": 3
   },
   "file_extension": ".py",
   "mimetype": "text/x-python",
   "name": "python",
   "nbconvert_exporter": "python",
   "pygments_lexer": "ipython3",
   "version": "3.7.2"
  }
 },
 "nbformat": 4,
 "nbformat_minor": 2
}
