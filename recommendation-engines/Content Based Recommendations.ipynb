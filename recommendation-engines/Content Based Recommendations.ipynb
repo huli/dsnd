{
 "cells": [
  {
   "cell_type": "markdown",
   "metadata": {
    "collapsed": true
   },
   "source": [
    "### Content Based Recommendations\n",
    "\n",
    "In the previous notebook, you were introduced to a way of making recommendations using collaborative filtering.  However, using this technique there are a large number of users who were left without any recommendations at all.  Other users were left with fewer than the ten recommendations that were set up by our function to retrieve....\n",
    "\n",
    "In order to help these users out, let's try another technique: **content based** recommendations. Let's start off where we were in the previous notebook."
   ]
  },
  {
   "cell_type": "code",
   "execution_count": 1,
   "metadata": {
    "collapsed": true
   },
   "outputs": [],
   "source": [
    "import pandas as pd\n",
    "import numpy as np\n",
    "import matplotlib.pyplot as plt\n",
    "from collections import defaultdict\n",
    "from IPython.display import HTML\n",
    "import tests as t\n",
    "import pickle\n",
    "\n",
    "\n",
    "%matplotlib inline\n",
    "\n",
    "# Read in the datasets\n",
    "movies = pd.read_csv('data/movies_clean.csv')\n",
    "reviews = pd.read_csv('data/reviews_clean.csv')\n",
    "\n",
    "del movies['Unnamed: 0']\n",
    "del reviews['Unnamed: 0']\n",
    "\n",
    "\n",
    "all_recs = pickle.load(open(\"data/all_recs.p\", \"rb\"))"
   ]
  },
  {
   "cell_type": "code",
   "execution_count": 2,
   "metadata": {},
   "outputs": [
    {
     "data": {
      "text/plain": [
       "['Philadelphia (1993)',\n",
       " 'Training Day (2001)',\n",
       " 'About Schmidt (2002)',\n",
       " 'Insomnia (2002)',\n",
       " 'The United States of Leland (2003)',\n",
       " 'Shattered Glass (2003)',\n",
       " 'Man on Fire (2004)',\n",
       " 'Flipped (2010)',\n",
       " 'Silver Linings Playbook (2012)',\n",
       " 'Lawless (2012)',\n",
       " '50/50 (2011)',\n",
       " 'Crazy, Stupid, Love. (2011)',\n",
       " 'The Perks of Being a Wallflower (2012)',\n",
       " 'Before I Go to Sleep (2014)',\n",
       " 'Zero Dark Thirty (2012)',\n",
       " 'American Hustle (2013)',\n",
       " 'Django Unchained (2012)',\n",
       " 'Side Effects (2013)',\n",
       " 'Gone Girl (2014)',\n",
       " 'Enough Said (2013)',\n",
       " 'Nightcrawler (2014)']"
      ]
     },
     "execution_count": 2,
     "metadata": {},
     "output_type": "execute_result"
    }
   ],
   "source": [
    "all_recs[2]"
   ]
  },
  {
   "cell_type": "markdown",
   "metadata": {},
   "source": [
    "### Datasets\n",
    "\n",
    "From the above, you now have access to three important items that you will be using throughout the rest of this notebook.  \n",
    "\n",
    "`a.` **movies** - a dataframe of all of the movies in the dataset along with other content related information about the movies (genre and date)\n",
    "\n",
    "\n",
    "`b.` **reviews** - this was the main dataframe used before for collaborative filtering, as it contains all of the interactions between users and movies.\n",
    "\n",
    "\n",
    "`c.` **all_recs** - a dictionary where each key is a user, and the value is a list of movie recommendations based on collaborative filtering\n",
    "\n",
    "For the individuals in **all_recs** who did receive 10 recommendations using collaborative filtering, we don't really need to worry about them.  However, there were a number of individuals in our dataset who did not receive any recommendations.\n",
    "\n",
    "-----\n",
    "\n",
    "`1.` Let's start with finding all of the users in our dataset who didn't get all 10 ratings we would have liked them to have using collaborative filtering.  "
   ]
  },
  {
   "cell_type": "code",
   "execution_count": 3,
   "metadata": {},
   "outputs": [
    {
     "name": "stdout",
     "output_type": "stream",
     "text": [
      "There are 22187 users with all reccomendations from collaborative filtering.\n",
      "There are 34170 users who still need recommendations.\n",
      "This means that only 39.37% of users received all 10 of their recommendations using collaborative filtering\n"
     ]
    }
   ],
   "source": [
    "users_with_all_recs = []\n",
    "for user, movie_recs in all_recs.items():\n",
    "    if len(movie_recs) >= 10:\n",
    "        users_with_all_recs.append(user)\n",
    "\n",
    "print(\"There are {} users with all reccomendations from collaborative filtering.\".format(len(users_with_all_recs)))\n",
    "\n",
    "users = np.unique(reviews['user_id'])\n",
    "users_who_need_recs = np.setdiff1d(users, users_with_all_recs)\n",
    "\n",
    "print(\"There are {} users who still need recommendations.\".format(len(users_who_need_recs)))\n",
    "print(\"This means that only {}% of users received all 10 of their recommendations using collaborative filtering\".format(round(len(users_with_all_recs)/len(np.unique(reviews['user_id'])), 4)*100))   "
   ]
  },
  {
   "cell_type": "code",
   "execution_count": 4,
   "metadata": {},
   "outputs": [
    {
     "name": "stdout",
     "output_type": "stream",
     "text": [
      "That's right there were still another 31781 users who needed recommendations when we only used collaborative filtering!\n"
     ]
    }
   ],
   "source": [
    "# A quick test\n",
    "assert len(users_with_all_recs) == 22187\n",
    "print(\"That's right there were still another 31781 users who needed recommendations when we only used collaborative filtering!\")"
   ]
  },
  {
   "cell_type": "markdown",
   "metadata": {},
   "source": [
    "### Content Based Recommendations\n",
    "\n",
    "You will be doing a bit of a mix of content and collaborative filtering to make recommendations for the users this time.  This will allow you to obtain recommendations in many cases where we didn't make recommendations earlier.     \n",
    "\n",
    "`2.` Before finding recommendations, rank the user's ratings from highest to lowest. You will move through the movies in this order looking for other similar movies."
   ]
  },
  {
   "cell_type": "code",
   "execution_count": 5,
   "metadata": {},
   "outputs": [
    {
     "data": {
      "text/html": [
       "<div>\n",
       "<style scoped>\n",
       "    .dataframe tbody tr th:only-of-type {\n",
       "        vertical-align: middle;\n",
       "    }\n",
       "\n",
       "    .dataframe tbody tr th {\n",
       "        vertical-align: top;\n",
       "    }\n",
       "\n",
       "    .dataframe thead th {\n",
       "        text-align: right;\n",
       "    }\n",
       "</style>\n",
       "<table border=\"1\" class=\"dataframe\">\n",
       "  <thead>\n",
       "    <tr style=\"text-align: right;\">\n",
       "      <th></th>\n",
       "      <th>user_id</th>\n",
       "      <th>movie_id</th>\n",
       "      <th>rating</th>\n",
       "      <th>timestamp</th>\n",
       "      <th>date</th>\n",
       "    </tr>\n",
       "  </thead>\n",
       "  <tbody>\n",
       "    <tr>\n",
       "      <th>761228</th>\n",
       "      <td>56357</td>\n",
       "      <td>1559547</td>\n",
       "      <td>2</td>\n",
       "      <td>1373287369</td>\n",
       "      <td>2013-07-08 14:42:49</td>\n",
       "    </tr>\n",
       "    <tr>\n",
       "      <th>761229</th>\n",
       "      <td>56357</td>\n",
       "      <td>2415464</td>\n",
       "      <td>2</td>\n",
       "      <td>1373772560</td>\n",
       "      <td>2013-07-14 05:29:20</td>\n",
       "    </tr>\n",
       "    <tr>\n",
       "      <th>761227</th>\n",
       "      <td>56356</td>\n",
       "      <td>816711</td>\n",
       "      <td>8</td>\n",
       "      <td>1371972851</td>\n",
       "      <td>2013-06-23 09:34:11</td>\n",
       "    </tr>\n",
       "    <tr>\n",
       "      <th>760546</th>\n",
       "      <td>56355</td>\n",
       "      <td>338751</td>\n",
       "      <td>10</td>\n",
       "      <td>1362328708</td>\n",
       "      <td>2013-03-03 17:38:28</td>\n",
       "    </tr>\n",
       "    <tr>\n",
       "      <th>760551</th>\n",
       "      <td>56355</td>\n",
       "      <td>404032</td>\n",
       "      <td>10</td>\n",
       "      <td>1453328244</td>\n",
       "      <td>2016-01-20 23:17:24</td>\n",
       "    </tr>\n",
       "  </tbody>\n",
       "</table>\n",
       "</div>"
      ],
      "text/plain": [
       "        user_id  movie_id  rating   timestamp                 date\n",
       "761228    56357   1559547       2  1373287369  2013-07-08 14:42:49\n",
       "761229    56357   2415464       2  1373772560  2013-07-14 05:29:20\n",
       "761227    56356    816711       8  1371972851  2013-06-23 09:34:11\n",
       "760546    56355    338751      10  1362328708  2013-03-03 17:38:28\n",
       "760551    56355    404032      10  1453328244  2016-01-20 23:17:24"
      ]
     },
     "execution_count": 5,
     "metadata": {},
     "output_type": "execute_result"
    }
   ],
   "source": [
    "# create a dataframe similar to reviews, but ranked by rating for each user\n",
    "ranked_reviews = reviews.sort_values(by=['user_id', 'rating'], ascending=False)\n",
    "ranked_reviews.head()"
   ]
  },
  {
   "cell_type": "markdown",
   "metadata": {},
   "source": [
    "### Similarities\n",
    "\n",
    "In the collaborative filtering sections, you became quite familiar with different methods of determining the similarity (or distance) of two users.  We can perform similarities based on content in much the same way.  \n",
    "\n",
    "In many cases, it turns out that one of the fastest ways we can find out how similar items are to one another (when our matrix isn't totally sparse like it was in the earlier section) is by simply using matrix multiplication.  If you are not familiar with this, an explanation is available [here by 3blue1brown](https://www.youtube.com/watch?v=LyGKycYT2v0) and another quick explanation is provided [in the post here](https://math.stackexchange.com/questions/689022/how-does-the-dot-product-determine-similarity).\n",
    "\n",
    "For us to pull out a matrix that describes the movies in our dataframe in terms of content, we might just use the indicator variables related to **year** and **genre** for our movies.  \n",
    "\n",
    "Then we can obtain a matrix of how similar movies are to one another by taking the dot product of this matrix with itself.  Notice below that the dot product where our 1 values overlap gives a value of 2 indicating higher similarity.  In the second dot product, the 1 values don't match up.  This leads to a dot product of 0 indicating lower similarity.\n",
    "\n",
    "<img src=\"images/dotprod1.png\" alt=\"Dot Product\" height=\"500\" width=\"500\">\n",
    "\n",
    "We can perform the dot product on a matrix of movies with content characteristics to provide a movie by movie matrix where each cell is an indication of how similar two movies are to one another.  In the below image, you can see that movies 1 and 8 are most similar, movies 2 and 8 are most similar, and movies 3 and 9 are most similar for this subset of the data.  The diagonal elements of the matrix will contain the similarity of a movie with itself, which will be the largest possible similarity (and will also be the number of 1's in the movie row within the orginal movie content matrix).\n",
    "\n",
    "<img src=\"images/moviemat.png\" alt=\"Dot Product\" height=\"500\" width=\"500\">\n",
    "\n",
    "\n",
    "`3.` Create a numpy array that is a matrix of indicator variables related to year (by century) and movie genres by movie.  Perform the dot product of this matrix with itself (transposed) to obtain a similarity matrix of each movie with every other movie.  The final matrix should be 31245 x 31245."
   ]
  },
  {
   "cell_type": "code",
   "execution_count": 6,
   "metadata": {},
   "outputs": [],
   "source": [
    "# Subset so movie_content is only using the dummy variables for each genre and the 3 century based year dummy columns\n",
    "movie_content = movies.iloc[:, 4:]\n",
    "\n",
    "# Take the dot product to obtain a movie x movie matrix of similarities\n",
    "dot_prod_movies = np.dot(movie_content, movie_content.transpose())"
   ]
  },
  {
   "cell_type": "code",
   "execution_count": 7,
   "metadata": {},
   "outputs": [
    {
     "name": "stdout",
     "output_type": "stream",
     "text": [
      "Looks like you passed all of the tests.  Though they weren't very robust - if you want to write some of your own, I won't complain!\n"
     ]
    }
   ],
   "source": [
    "# create checks for the dot product matrix\n",
    "assert dot_prod_movies.shape[0] == len(movies)\n",
    "assert dot_prod_movies.shape[1] == len(movies)\n",
    "assert dot_prod_movies[0, 0] == np.max(dot_prod_movies[0])\n",
    "print(\"Looks like you passed all of the tests.  Though they weren't very robust - if you want to write some of your own, I won't complain!\")"
   ]
  },
  {
   "cell_type": "markdown",
   "metadata": {},
   "source": [
    "### For Each User...\n",
    "\n",
    "\n",
    "Now you have a matrix where each user has their ratings ordered.  You also have a second matrix where movies are each axis, and the matrix entries are larger where the two movies are more similar and smaller where the two movies are dissimilar.  This matrix is a measure of content similarity. Therefore, it is time to get to the fun part.\n",
    "\n",
    "For each user, we will perform the following:\n",
    "\n",
    "    i. For each movie, find the movies that are most similar that the user hasn't seen.\n",
    "\n",
    "    ii. Continue through the available, rated movies until 10 recommendations or until there are no additional movies.\n",
    "\n",
    "As a final note, you may need to adjust the criteria for 'most similar' to obtain 10 recommendations.  As a first pass, I used only movies with the highest possible similarity to one another as similar enough to add as a recommendation.\n",
    "\n",
    "`3.` In the cell below, complete each of the functions needed for making content based recommendations."
   ]
  },
  {
   "cell_type": "code",
   "execution_count": 10,
   "metadata": {},
   "outputs": [
    {
     "data": {
      "text/plain": [
       "array(['Fantastic Four (2005)', 'X-Men (2000)',\n",
       "       'Planet of the Apes (2001)', 'Jurassic Park III (2001)',\n",
       "       'Battlefield Earth (2000)', 'Star Trek: Nemesis (2002)',\n",
       "       'Dakota Bound (2001)', 'The Time Machine (2002)', 'X2 (2003)',\n",
       "       'The Chronicles of Riddick (2004)', 'The Core (2003)',\n",
       "       'Timeline (2003)', 'The Day After Tomorrow (2004)',\n",
       "       'Alien Hunter (2003)', 'Ritânâ (2002)', 'Babylon A.D. (2008)',\n",
       "       'Jurassic World (2015)', 'AVP: Alien vs. Predator (2004)',\n",
       "       'Iron Man (2008)', 'X-Men: The Last Stand (2006)',\n",
       "       'Serenity (2005)', 'Stealth (2005)', 'Far Cry (2008)',\n",
       "       'Transformers (2007)', 'Alita: Battle Angel (2019)',\n",
       "       'Captain America: The First Avenger (2011)',\n",
       "       'X-Men Origins: Wolverine (2009)', 'Outlander (2008)',\n",
       "       'Ant-Man (2015)', 'Jumper (2008)', 'Mutant Chronicles (2008)',\n",
       "       'Star Trek (2009)', 'The Incredible Hulk (2008)', 'Godzilla (2014)',\n",
       "       'Starship Troopers 3: Marauder (2008)', 'Obitaemyy ostrov (2008)',\n",
       "       'G.I. Joe: The Rise of Cobra (2009)',\n",
       "       'Transformers: Revenge of the Fallen (2009)', 'TRON: Legacy (2010)',\n",
       "       '2012 (2009)', 'Iron Man 2 (2010)', 'X-Men: First Class (2011)',\n",
       "       'Universal Soldier: Regeneration (2009)', 'Iron Man 3 (2013)',\n",
       "       'Terminator Genisys (2015)', 'The Black Knight - Returns (2009)',\n",
       "       'Mad Max: Fury Road (2015)',\n",
       "       'Transformers: Dark of the Moon (2011)',\n",
       "       'Obitaemyy ostrov. Skhvatka (2009)',\n",
       "       'Star Trek Into Darkness (2013)', 'Predators (2010)',\n",
       "       'The Wolverine (2013)', 'Deadpool (2016)', 'Battleship (2012)',\n",
       "       'I Am Number Four (2011)', 'Aquaman (2018)',\n",
       "       'Fantastic Four (2015)', 'Ra.One (2011)', 'Mortal Engines (2018)',\n",
       "       'G.I. Joe: Retaliation (2013)', 'Jupiter Ascending (2015)',\n",
       "       'Independence Day: Resurgence (2016)', 'Edge of Tomorrow (2014)',\n",
       "       'Pacific Rim (2013)', 'Ready Player One (2018)',\n",
       "       'Robotropolis (2011)', 'After Earth (2013)', 'Black Panther (2018)',\n",
       "       'Captain America: The Winter Soldier (2014)',\n",
       "       'X-Men: Days of Future Past (2014)', 'Hunting the Phantom (2014)',\n",
       "       'Guardians of the Galaxy (2014)',\n",
       "       'Transformers: Age of Extinction (2014)', 'Robot Overlords (2014)',\n",
       "       'Rampage (2018)', 'The 5th Wave (2016)',\n",
       "       'Avengers: Age of Ultron (2015)', '40 Days and Nights (2012)',\n",
       "       'Pacific Rim: Uprising (2018)', 'Star Trek Beyond (2016)',\n",
       "       'Arrowhead (2016)', 'Hardcore Henry (2015)', 'The Veil (2017)',\n",
       "       'Fire Twister (2015)', 'Transformers: The Last Knight (2017)',\n",
       "       'The Divergent Series: Allegiant (2016)',\n",
       "       'Asteroid vs. Earth (2014)', 'Vice (2015)',\n",
       "       'Captain America: Civil War (2016)', 'Turbo Kid (2015)',\n",
       "       'Power Rangers (2017)', 'Rogue One: A Star Wars Story (2016)',\n",
       "       'Guardians of the Galaxy Vol. 2 (2017)', 'Age of Ice (2014)',\n",
       "       'Zashchitniki (2017)', 'Flight World War II (2015)',\n",
       "       'Spider-Man: Into the Spider-Verse (2018)', 'Bumblebee (2018)',\n",
       "       'Time Trap (2017)', 'Jurassic World: Fallen Kingdom (2018)',\n",
       "       'Ant-Man and the Wasp (2018)', 'Tik Tik Tik (2018)',\n",
       "       'Gojira: hoshi wo kû mono (2018)'], dtype=object)"
      ]
     },
     "execution_count": 10,
     "metadata": {},
     "output_type": "execute_result"
    }
   ],
   "source": [
    "def find_similar_movies(movie_id):\n",
    "    '''\n",
    "    INPUT\n",
    "    movie_id - a movie_id \n",
    "    OUTPUT\n",
    "    similar_movies - an array of the most similar movies by title\n",
    "    '''\n",
    "    # find the row of each movie id\n",
    "    movie_ix = np.where(movies['movie_id'] == movie_id)[0][0]\n",
    "    \n",
    "    # find the most similar movie indices - to start I said they need to be the same for all content\n",
    "    similar_movies_ix = np.where(dot_prod_movies[movie_ix] == np.max(dot_prod_movies[movie_ix]))[0]\n",
    "    \n",
    "    # pull the movie titles based on the indices\n",
    "    similar_movies = np.array(movies.iloc[similar_movies_ix, :]['movie'])\n",
    "    \n",
    "    return similar_movies\n",
    "\n",
    "find_similar_movies(120903) # Similar to x-men"
   ]
  },
  {
   "cell_type": "code",
   "execution_count": 11,
   "metadata": {
    "collapsed": true
   },
   "outputs": [],
   "source": [
    "# You made this function in an earlier notebook - using again here    \n",
    "def get_movie_names(movie_ids):\n",
    "    '''\n",
    "    INPUT\n",
    "    movie_ids - a list of movie_ids\n",
    "    OUTPUT\n",
    "    movies - a list of movie names associated with the movie_ids\n",
    "    \n",
    "    '''\n",
    "    movie_lst = list(movies[movies['movie_id'].isin(movie_ids)]['movie'])\n",
    "   \n",
    "    return movie_lst"
   ]
  },
  {
   "cell_type": "code",
   "execution_count": 13,
   "metadata": {},
   "outputs": [
    {
     "name": "stdout",
     "output_type": "stream",
     "text": [
      "Collecting tqdm\n",
      "\u001b[?25l  Downloading https://files.pythonhosted.org/packages/6c/4b/c38b5144cf167c4f52288517436ccafefe9dc01b8d1c190e18a6b154cd4a/tqdm-4.31.1-py2.py3-none-any.whl (48kB)\n",
      "\u001b[K    100% |████████████████████████████████| 51kB 9.6MB/s eta 0:00:01\n",
      "\u001b[?25hInstalling collected packages: tqdm\n",
      "Successfully installed tqdm-4.31.1\n"
     ]
    }
   ],
   "source": [
    "!pip install tqdm\n",
    "\n",
    "from tqdm import tqdm_notebook"
   ]
  },
  {
   "cell_type": "code",
   "execution_count": 18,
   "metadata": {
    "collapsed": true
   },
   "outputs": [],
   "source": [
    "def make_recs():\n",
    "    '''\n",
    "    INPUT\n",
    "    None\n",
    "    OUTPUT\n",
    "    recs - a dictionary with keys of the user and values of the recommendations\n",
    "    '''\n",
    "    \n",
    "    # Create dictionary to return with users and ratings\n",
    "    recs = defaultdict(set)\n",
    "    \n",
    "    # For each user\n",
    "    for user in tqdm_notebook(users_who_need_recs):\n",
    "        \n",
    "        # Pull only the reviews the user has seen\n",
    "        # Look at each of the movies (highest ranked first)\n",
    "        reviews_of_user = ranked_reviews[ranked_reviews['user_id'] == user]\n",
    "        movie_ids_of_user = np.array(reviews_of_user['movie_id'])\n",
    "        movie_names_of_user = np.array(get_movie_names(movie_ids_of_user))\n",
    "        \n",
    "        # These will be the recommendations - continue until 10 recs \n",
    "        for movie in movie_ids_of_user:\n",
    "            \n",
    "            similar_movies = find_similar_movies(movie)\n",
    "            recommended_movies = np.setdiff1d(similar_movies, movie_names_of_user)\n",
    "            recs[user].update(recommended_movies)\n",
    "            \n",
    "            if len(recs[user]) >= 10:\n",
    "                break\n",
    "    \n",
    "    return recs"
   ]
  },
  {
   "cell_type": "code",
   "execution_count": 19,
   "metadata": {},
   "outputs": [
    {
     "data": {
      "application/vnd.jupyter.widget-view+json": {
       "model_id": "02861ea811854d519174ade6e60f67e9",
       "version_major": 2,
       "version_minor": 0
      },
      "text/plain": [
       "A Jupyter Widget"
      ]
     },
     "metadata": {},
     "output_type": "display_data"
    }
   ],
   "source": [
    "recs = make_recs()"
   ]
  },
  {
   "cell_type": "markdown",
   "metadata": {},
   "source": [
    "### How Did We Do?\n",
    "\n",
    "Now that you have made the recommendations, how did we do in providing everyone with a set of recommendations?\n",
    "\n",
    "`4.` Use the cells below to see how many individuals you were able to make recommendations for, as well as explore characteristics about individuals for whom you were not able to make recommendations.  "
   ]
  },
  {
   "cell_type": "code",
   "execution_count": 21,
   "metadata": {},
   "outputs": [
    {
     "data": {
      "text/plain": [
       "34170"
      ]
     },
     "execution_count": 21,
     "metadata": {},
     "output_type": "execute_result"
    }
   ],
   "source": [
    "# Explore recommendations\n",
    "len(recs)"
   ]
  },
  {
   "cell_type": "code",
   "execution_count": 33,
   "metadata": {},
   "outputs": [
    {
     "name": "stdout",
     "output_type": "stream",
     "text": [
      "There were 32941 users with all 10 content-recommendations we would like them to have.\n",
      "There were 1229 users without all 10 recommendations we would have liked to have.\n",
      "So there are 2.18% users which have not 10 content- nor user-based recommendations\n"
     ]
    }
   ],
   "source": [
    "# Some characteristics of my content based recommendations\n",
    "users_without_content_recs = []\n",
    "users_with_content_recs = [] # users with all recs here\n",
    "for user, recommendations in recs.items():\n",
    "    if len(recommendations) < 10:\n",
    "        users_without_content_recs.append(user)\n",
    "    else:\n",
    "        users_with_content_recs.append(user)\n",
    "        \n",
    "print(\"There were {} users with all 10 content-recommendations we would like them to have.\".format(len(users_with_content_recs)))\n",
    "print(\"There were {} users without all 10 recommendations we would have liked to have.\".format(len(users_without_content_recs)))\n",
    "print(\"So there are {}% users which have not 10 content- nor user-based recommendations\".format(\n",
    "    round(len(users_without_content_recs)/len(np.unique(reviews['user_id'])), 4)*100))"
   ]
  },
  {
   "cell_type": "markdown",
   "metadata": {},
   "source": [
    "### Now What?  \n",
    "\n",
    "Well, if you were really strict with your criteria for how similar two movies are (like I was initially), then you still have some users that don't have all 10 recommendations (and a small group of users who have no recommendations at all). \n",
    "\n",
    "As stated earlier, recommendation engines are a bit of an **art** and a **science**.  There are a number of things we still could look into - how do our collaborative filtering and content based recommendations compare to one another? How could we incorporate user input along with collaborative filtering and/or content based recommendations to improve any of our recommendations?  How can we truly gain recommendations for every user?\n",
    "\n",
    "`5.` In this last step feel free to explore any last ideas you have with the recommendation techniques we have looked at so far.  You might choose to make the final needed recommendations using the first technique with just top ranked movies.  You might also loosen up the strictness in the similarity needed between movies.  Be creative and share your insights with your classmates!"
   ]
  }
 ],
 "metadata": {
  "kernelspec": {
   "display_name": "Python 3",
   "language": "python",
   "name": "python3"
  },
  "language_info": {
   "codemirror_mode": {
    "name": "ipython",
    "version": 3
   },
   "file_extension": ".py",
   "mimetype": "text/x-python",
   "name": "python",
   "nbconvert_exporter": "python",
   "pygments_lexer": "ipython3",
   "version": "3.6.8"
  }
 },
 "nbformat": 4,
 "nbformat_minor": 2
}
